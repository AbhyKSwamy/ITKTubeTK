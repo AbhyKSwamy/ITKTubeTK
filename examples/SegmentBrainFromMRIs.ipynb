{
 "cells": [
  {
   "cell_type": "code",
   "execution_count": 1,
   "metadata": {},
   "outputs": [],
   "source": [
    "import itk\n",
    "from itk import TubeTK as ttk\n",
    "\n",
    "from itkwidgets import view\n",
    "\n",
    "import numpy as np\n",
    "\n",
    "import matplotlib.pyplot as plt"
   ]
  },
  {
   "cell_type": "code",
   "execution_count": 2,
   "metadata": {},
   "outputs": [],
   "source": [
    "ImageType = itk.Image[itk.F, 3]\n",
    "\n",
    "ReaderType = itk.ImageFileReader[ImageType]\n",
    "\n",
    "reader1 = ReaderType.New(FileName=\"Data/mra.mha\")\n",
    "reader1.Update()\n",
    "im1 = reader1.GetOutput()\n",
    "\n",
    "reader2 = ReaderType.New(FileName=\"Data/mri_t1_sag.mha\")\n",
    "reader2.Update()\n",
    "im2 = reader2.GetOutput()\n",
    "\n",
    "reader3 = ReaderType.New(FileName=\"Data/mri_t2.mha\")\n",
    "reader3.Update()\n",
    "im3 = reader3.GetOutput()"
   ]
  },
  {
   "cell_type": "code",
   "execution_count": 3,
   "metadata": {},
   "outputs": [],
   "source": [
    "RegisterImagesType = ttk.RegisterImages[itk.F, 3]\n",
    "\n",
    "reg2To1 = RegisterImagesType.New(FixedImage=im1, MovingImage=im2)\n",
    "reg2To1.SetReportProgress(True)\n",
    "reg2To1.SetExpectedOffsetMagnitude(5)\n",
    "reg2To1.SetExpectedRotationMagnitude(0.005)\n",
    "reg2To1.SetRegistration(\"PIPELINE_AFFINE\")\n",
    "reg2To1.SetMetric(\"MATTES_MI_METRIC\")\n",
    "reg2To1.Update()\n",
    "im2Reg = reg2To1.ResampleImage()"
   ]
  },
  {
   "cell_type": "code",
   "execution_count": 6,
   "metadata": {},
   "outputs": [],
   "source": [
    "reg3To1 = RegisterImagesType.New(FixedImage=im1, MovingImage=im3)\n",
    "reg3To1.SetReportProgress(True)\n",
    "reg3To1.SetExpectedOffsetMagnitude(5)\n",
    "reg3To1.SetExpectedRotationMagnitude(0.005)\n",
    "reg3To1.SetRegistration(\"PIPELINE_AFFINE\")\n",
    "reg3To1.SetMetric(\"MATTES_MI_METRIC\")\n",
    "reg3To1.Update()\n",
    "im3Reg = reg3To1.ResampleImage()"
   ]
  },
  {
   "cell_type": "code",
   "execution_count": 7,
   "metadata": {},
   "outputs": [
    {
     "data": {
      "application/vnd.jupyter.widget-view+json": {
       "model_id": "cf3280901f8645af887f07506ebe1fe4",
       "version_major": 2,
       "version_minor": 0
      },
      "text/plain": [
       "Viewer(geometries=[], gradient_opacity=0.22, point_sets=[], rendered_image=<itkImagePython.itkImageF3; proxy o…"
      ]
     },
     "metadata": {},
     "output_type": "display_data"
    }
   ],
   "source": [
    "CheckerboardImagesType = itk.CheckerBoardImageFilter[ImageType]\n",
    "cb23 = CheckerboardImagesType.New(Input1=im2Reg, Input2=im3Reg)\n",
    "cb23.Update()\n",
    "im23 = ImageType.New()\n",
    "im23 = cb23.GetOutput()\n",
    "view(im23)"
   ]
  },
  {
   "cell_type": "code",
   "execution_count": 8,
   "metadata": {},
   "outputs": [],
   "source": [
    "readerBase1 = ReaderType.New(FileName=\"Data/Normal026-FLASH.mha\")\n",
    "readerBase1.Update()\n",
    "imBase1 = readerBase1.GetOutput()\n",
    "readerBase1 = ReaderType.New(FileName=\"Data/Normal026-FLASH-Brain.mha\")\n",
    "readerBase1.Update()\n",
    "imBase1B = readerBase1.GetOutput()\n",
    "\n",
    "readerBase2 = ReaderType.New(FileName=\"Data/Normal045-FLASH.mha\")\n",
    "readerBase2.Update()\n",
    "imBase2 = readerBase2.GetOutput()\n",
    "readerBase2 = ReaderType.New(FileName=\"Data/Normal045-FLASH-Brain.mha\")\n",
    "readerBase2.Update()\n",
    "imBase2B = readerBase2.GetOutput()\n",
    "\n",
    "readerBase3 = ReaderType.New(FileName=\"Data/Normal063-FLASH.mha\")\n",
    "readerBase3.Update()\n",
    "imBase3 = readerBase3.GetOutput()\n",
    "readerBase3 = ReaderType.New(FileName=\"Data/Normal063-FLASH-Brain.mha\")\n",
    "readerBase3.Update()\n",
    "imBase3B = readerBase3.GetOutput()\n",
    "\n",
    "readerBase4 = ReaderType.New(FileName=\"Data/Normal071-FLASH.mha\")\n",
    "readerBase4.Update()\n",
    "imBase4 = readerBase4.GetOutput()\n",
    "readerBase4 = ReaderType.New(FileName=\"Data/Normal071-FLASH-Brain.mha\")\n",
    "readerBase4.Update()\n",
    "imBase4B = readerBase4.GetOutput()\n",
    "\n",
    "imBase = [imBase1, imBase2, imBase3, imBase4]\n",
    "imBaseB = [imBase1B, imBase2B, imBase3B, imBase4B]"
   ]
  },
  {
   "cell_type": "code",
   "execution_count": 9,
   "metadata": {},
   "outputs": [],
   "source": [
    "regB = []\n",
    "regBB = []\n",
    "for i in range(0,3):\n",
    "    regBTo1 = RegisterImagesType.New(FixedImage=im2Reg, MovingImage=imBase[i])\n",
    "    regBTo1.SetReportProgress(True)\n",
    "    regBTo1.SetExpectedOffsetMagnitude(5)\n",
    "    regBTo1.SetExpectedRotationMagnitude(0.005)\n",
    "    regBTo1.SetRegistration(\"PIPELINE_AFFINE\")\n",
    "    regBTo1.SetMetric(\"MEAN_SQUARED_ERROR_METRIC\")\n",
    "    regBTo1.Update()\n",
    "    img = regBTo1.ResampleImage()\n",
    "    regB.append( img )\n",
    "    img = regBTo1.ResampleImage(\"LINEAR\", imBaseB[i])\n",
    "    regBB.append( img )"
   ]
  },
  {
   "cell_type": "code",
   "execution_count": null,
   "metadata": {},
   "outputs": [],
   "source": []
  },
  {
   "cell_type": "code",
   "execution_count": null,
   "metadata": {},
   "outputs": [],
   "source": []
  }
 ],
 "metadata": {
  "kernelspec": {
   "display_name": "Python 3",
   "language": "python",
   "name": "python3"
  },
  "language_info": {
   "codemirror_mode": {
    "name": "ipython",
    "version": 3
   },
   "file_extension": ".py",
   "mimetype": "text/x-python",
   "name": "python",
   "nbconvert_exporter": "python",
   "pygments_lexer": "ipython3",
   "version": "3.7.5"
  }
 },
 "nbformat": 4,
 "nbformat_minor": 2
}
