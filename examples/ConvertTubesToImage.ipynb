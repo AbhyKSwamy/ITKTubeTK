{
 "cells": [
  {
   "cell_type": "markdown",
   "metadata": {},
   "source": [
    "# Convert Tubes To Images"
   ]
  },
  {
   "cell_type": "markdown",
   "metadata": {},
   "source": [
    "This notebook contains a few examples of how to call wrapped methods in itk and ITKTubeTK."
   ]
  },
  {
   "cell_type": "markdown",
   "metadata": {},
   "source": [
    "ITK, ITKTubeTK, and ITKWidgets must be installed on your system for this notebook to work."
   ]
  },
  {
   "cell_type": "code",
   "execution_count": 1,
   "metadata": {},
   "outputs": [],
   "source": [
    "import os\n",
    "import sys\n",
    "import numpy"
   ]
  },
  {
   "cell_type": "code",
   "execution_count": 2,
   "metadata": {},
   "outputs": [],
   "source": [
    "import itk\n",
    "from itk import TubeTK as ttk\n",
    "from itkwidgets import view"
   ]
  },
  {
   "cell_type": "markdown",
   "metadata": {},
   "source": [
    "Initialization"
   ]
  },
  {
   "cell_type": "code",
   "execution_count": 3,
   "metadata": {},
   "outputs": [],
   "source": [
    "PixelType = itk.F\n",
    "Dimension = 3\n",
    "    \n",
    "# Read tre file\n",
    "TubeFileReaderType = itk.SpatialObjectReader[Dimension]\n",
    "    \n",
    "tubeFileReader = TubeFileReaderType.New()\n",
    "tubeFileReader.SetFileName(\"Data/Normal071-VascularNetwork.tre\")\n",
    "tubeFileReader.Update()\n",
    "\n",
    "tubes = tubeFileReader.GetGroup()\n",
    "\n",
    "\n",
    "# Read template image\n",
    "TemplateImageType = itk.Image[PixelType, Dimension]\n",
    "TemplateImageReaderType = itk.ImageFileReader[TemplateImageType]\n",
    "    \n",
    "templateImageReader = TemplateImageReaderType.New()\n",
    "templateImageReader.SetFileName(\"Data/Normal071-MRA.mha\")\n",
    "templateImageReader.Update()\n",
    "\n",
    "templateImage = templateImageReader.GetOutput()"
   ]
  },
  {
   "cell_type": "code",
   "execution_count": 5,
   "metadata": {},
   "outputs": [
    {
     "data": {
      "application/vnd.jupyter.widget-view+json": {
       "model_id": "5bfd9ca486314494a757770e4288fdc2",
       "version_major": 2,
       "version_minor": 0
      },
      "text/plain": [
       "Viewer(geometries=[], gradient_opacity=0.22, point_sets=[], rendered_image=<itkImagePython.itkImageF3; proxy o…"
      ]
     },
     "metadata": {},
     "output_type": "display_data"
    }
   ],
   "source": [
    "view(templateImage)"
   ]
  },
  {
   "cell_type": "code",
   "execution_count": 6,
   "metadata": {},
   "outputs": [],
   "source": [
    "TubesToImageFilterType = ttk.ConvertTubesToImage[Dimension, PixelType]\n",
    "tubesToImageFilter = TubesToImageFilterType.New()\n",
    "tubesToImageFilter.SetUseRadius(True) #args.useRadii\n",
    "tubesToImageFilter.SetTemplateImage(templateImageReader.GetOutput())\n",
    "tubesToImageFilter.SetInput(tubes)\n",
    "tubesToImageFilter.Update()\n",
    "\n",
    "outputImage = tubesToImageFilter.GetOutput()"
   ]
  },
  {
   "cell_type": "code",
   "execution_count": 7,
   "metadata": {},
   "outputs": [
    {
     "data": {
      "application/vnd.jupyter.widget-view+json": {
       "model_id": "5aa1e2a11ca046e1bd25d709eea5d39d",
       "version_major": 2,
       "version_minor": 0
      },
      "text/plain": [
       "Viewer(geometries=[], gradient_opacity=0.22, point_sets=[], rendered_image=<itkImagePython.itkImageF3; proxy o…"
      ]
     },
     "metadata": {},
     "output_type": "display_data"
    }
   ],
   "source": [
    "NormalizeImageFilterType = itk.NormalizeImageFilter[TemplateImageType, TemplateImageType]\n",
    "normalizeImageFilter1 = NormalizeImageFilterType.New()\n",
    "normalizeImageFilter1.SetInput(templateImage)\n",
    "normalizeImageFilter1.Update()\n",
    "norm1 = normalizeImageFilter1.GetOutput()\n",
    "\n",
    "normalizeImageFilter2 = NormalizeImageFilterType.New()\n",
    "normalizeImageFilter2.SetInput(outputImage)\n",
    "normalizeImageFilter2.Update()\n",
    "norm2 = normalizeImageFilter2.GetOutput()\n",
    "\n",
    "AddImageFilterType = itk.AddImageFilter[TemplateImageType, TemplateImageType, TemplateImageType]\n",
    "addImageFilter = AddImageFilterType.New()\n",
    "addImageFilter.SetInput1(norm1)\n",
    "addImageFilter.SetInput2(norm2)\n",
    "addImageFilter.Update()\n",
    "\n",
    "combinedImage = addImageFilter.GetOutput()\n",
    "view(combinedImage)"
   ]
  },
  {
   "cell_type": "code",
   "execution_count": null,
   "metadata": {},
   "outputs": [],
   "source": []
  }
 ],
 "metadata": {
  "kernelspec": {
   "display_name": "Python 3",
   "language": "python",
   "name": "python3"
  },
  "language_info": {
   "codemirror_mode": {
    "name": "ipython",
    "version": 3
   },
   "file_extension": ".py",
   "mimetype": "text/x-python",
   "name": "python",
   "nbconvert_exporter": "python",
   "pygments_lexer": "ipython3",
   "version": "3.7.5"
  }
 },
 "nbformat": 4,
 "nbformat_minor": 1
}
