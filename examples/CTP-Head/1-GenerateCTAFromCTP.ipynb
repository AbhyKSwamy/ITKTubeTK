{
 "cells": [
  {
   "cell_type": "code",
   "execution_count": 1,
   "metadata": {},
   "outputs": [],
   "source": [
    "import os \n",
    "import sys\n",
    "import glob\n",
    "import numpy as np\n",
    "import itk\n",
    "from itk import TubeTK as ttk\n",
    "from itkwidgets import view"
   ]
  },
  {
   "cell_type": "code",
   "execution_count": 2,
   "metadata": {},
   "outputs": [
    {
     "name": "stdout",
     "output_type": "stream",
     "text": [
      "['CTAT-003-Dawn_DAWN_PERFUSION_20180401112510_10.nii', 'CTAT-003-Dawn_DAWN_PERFUSION_20180401112510_11.nii', 'CTAT-003-Dawn_DAWN_PERFUSION_20180401112510_12.nii', 'CTAT-003-Dawn_DAWN_PERFUSION_20180401112510_13.nii', 'CTAT-003-Dawn_DAWN_PERFUSION_20180401112510_14.nii', 'CTAT-003-Dawn_DAWN_PERFUSION_20180401112510_15.nii', 'CTAT-003-Dawn_DAWN_PERFUSION_20180401112510_16.nii', 'CTAT-003-Dawn_DAWN_PERFUSION_20180401112510_17.nii', 'CTAT-003-Dawn_DAWN_PERFUSION_20180401112510_18.nii', 'CTAT-003-Dawn_DAWN_PERFUSION_20180401112510_19.nii', 'CTAT-003-Dawn_DAWN_PERFUSION_20180401112510_20.nii', 'CTAT-003-Dawn_DAWN_PERFUSION_20180401112510_21.nii', 'CTAT-003-Dawn_DAWN_PERFUSION_20180401112510_22.nii', 'CTAT-003-Dawn_DAWN_PERFUSION_20180401112510_23.nii', 'CTAT-003-Dawn_DAWN_PERFUSION_20180401112510_24.nii', 'CTAT-003-Dawn_DAWN_PERFUSION_20180401112510_25.nii', 'CTAT-003-Dawn_DAWN_PERFUSION_20180401112510_26.nii', 'CTAT-003-Dawn_DAWN_PERFUSION_20180401112510_27.nii', 'CTAT-003-Dawn_DAWN_PERFUSION_20180401112510_28.nii', 'CTAT-003-Dawn_DAWN_PERFUSION_20180401112510_29.nii', 'CTAT-003-Dawn_DAWN_PERFUSION_20180401112510_3.nii', 'CTAT-003-Dawn_DAWN_PERFUSION_20180401112510_30.nii', 'CTAT-003-Dawn_DAWN_PERFUSION_20180401112510_31.nii', 'CTAT-003-Dawn_DAWN_PERFUSION_20180401112510_32.nii', 'CTAT-003-Dawn_DAWN_PERFUSION_20180401112510_4.nii', 'CTAT-003-Dawn_DAWN_PERFUSION_20180401112510_5.nii', 'CTAT-003-Dawn_DAWN_PERFUSION_20180401112510_6.nii', 'CTAT-003-Dawn_DAWN_PERFUSION_20180401112510_7.nii', 'CTAT-003-Dawn_DAWN_PERFUSION_20180401112510_8.nii', 'CTAT-003-Dawn_DAWN_PERFUSION_20180401112510_9.nii']\n"
     ]
    }
   ],
   "source": [
    "# NRRD Study Name\n",
    "studyname = 'G:/My Drive/Projects/Proj_UNC_StrokeCollaterals/Experiments/UNC/CTP/CTAT-003'\n",
    "\n",
    "# NRRD Files\n",
    "directory = (studyname + '/')\n",
    "\n",
    "# Saved NRRD Files \n",
    "directory2 = (studyname + '-Reg/')\n",
    "\n",
    "# Mask Creation and Location\n",
    "directory3 = (studyname + '-MinMax/')\n",
    "\n",
    "pic_folder = os.listdir(directory)\n",
    "pic_folder = [pic_folder for pic_folder in pic_folder if \".nii\" in pic_folder]\n",
    "pic_folder.sort()\n",
    "print(pic_folder)\n",
    "num_images = len(pic_folder)\n",
    "\n",
    "im0 = itk.imread(directory + pic_folder[int(num_images/2)], itk.F)\n",
    "immath = ttk.ImageMath.New(Input=im0)\n",
    "immath.Blur(0.5)\n",
    "im0Blur = immath.GetOutput()\n",
    "\n",
    "immath.Threshold(150, 800, 1, 0)\n",
    "immath.Dilate(10, 1, 0)\n",
    "mask0 = immath.GetOutputUChar()\n",
    "mask0Tmp = itk.GetArrayFromImage(mask0)\n",
    "mask0Tmp[0:4,:,:] = 0\n",
    "sizeZ = mask0Tmp.shape[0]\n",
    "mask0Tmp[sizeZ-4:sizeZ,:,:] = 0\n",
    "mask0 = itk.GetImageFromArray(mask0Tmp)\n",
    "mask0.CopyInformation(im0)\n",
    "\n",
    "itk.imwrite(mask0, directory3 + 'mask.mha', compression=True)\n",
    "maskObj = itk.ImageMaskSpatialObject[3].New()\n",
    "maskObj.SetImage(mask0)\n",
    "maskObj.Update()"
   ]
  },
  {
   "cell_type": "code",
   "execution_count": 3,
   "metadata": {},
   "outputs": [
    {
     "data": {
      "application/vnd.jupyter.widget-view+json": {
       "model_id": "2f8bdc9d12d34f6a82aed1d9539a41b1",
       "version_major": 2,
       "version_minor": 0
      },
      "text/plain": [
       "Viewer(geometries=[], gradient_opacity=0.22, point_sets=[], rendered_image=<itk.itkImagePython.itkImageUC3; pr…"
      ]
     },
     "metadata": {},
     "output_type": "display_data"
    }
   ],
   "source": [
    "view(mask0)"
   ]
  },
  {
   "cell_type": "code",
   "execution_count": null,
   "metadata": {
    "scrolled": true
   },
   "outputs": [
    {
     "name": "stdout",
     "output_type": "stream",
     "text": [
      "AffineTransform (000001FABEFF0BE0)\n",
      "  RTTI typeinfo:   class itk::AffineTransform<double,3>\n",
      "  Reference Count: 2\n",
      "  Modified Time: 1459813\n",
      "  Debug: Off\n",
      "  Object Name: \n",
      "  Observers: \n",
      "    none\n",
      "  Matrix: \n",
      "    0.999998 0.00170899 -0.000626251 \n",
      "    -0.00171006 0.999997 -0.00171297 \n",
      "    0.000623322 0.00171404 0.999998 \n",
      "  Offset: [0.224218, -0.0611026, -0.155309]\n",
      "  Center: [0.21582, -164.716, 3.50005]\n",
      "  Translation: [-0.0594717, -0.0669847, -0.437509]\n",
      "  Inverse: \n",
      "    0.999998 -0.00171006 0.000623322 \n",
      "    0.00170899 0.999997 0.00171404 \n",
      "    -0.000626251 -0.00171297 0.999998 \n",
      "  Singular: 0\n",
      "\n",
      "4% : CTAT-001-Perf_DAWN_PERFUSION_20180301063224_10.nii\n",
      "AffineTransform (000001FABED63FD0)\n",
      "  RTTI typeinfo:   class itk::AffineTransform<double,3>\n",
      "  Reference Count: 2\n",
      "  Modified Time: 2923970\n",
      "  Debug: Off\n",
      "  Object Name: \n",
      "  Observers: \n",
      "    none\n",
      "  Matrix: \n",
      "    0.999997 0.00235968 -0.000292841 \n",
      "    -0.00235989 0.999997 -0.000734238 \n",
      "    0.000291107 0.000734927 1 \n",
      "  Offset: [0.278939, -0.0606089, -0.268699]\n",
      "  Center: [0.21582, -164.716, 3.50005]\n",
      "  Translation: [-0.110763, -0.063185, -0.389691]\n",
      "  Inverse: \n",
      "    0.999997 -0.00235989 0.000291107 \n",
      "    0.00235968 0.999997 0.000734927 \n",
      "    -0.000292841 -0.000734238 1 \n",
      "  Singular: 0\n",
      "\n",
      "8% : CTAT-001-Perf_DAWN_PERFUSION_20180301063224_11.nii\n",
      "AffineTransform (000001FABED63810)\n",
      "  RTTI typeinfo:   class itk::AffineTransform<double,3>\n",
      "  Reference Count: 2\n",
      "  Modified Time: 4382386\n",
      "  Debug: Off\n",
      "  Object Name: \n",
      "  Observers: \n",
      "    none\n",
      "  Matrix: \n",
      "    0.999999 0.00149813 -0.000600614 \n",
      "    -0.00149833 0.999999 -0.000342896 \n",
      "    0.0006001 0.000343795 1 \n",
      "  Offset: [0.197604, -0.064045, -0.404725]\n",
      "  Center: [0.21582, -164.716, 3.50005]\n",
      "  Translation: [-0.0512644, -0.065374, -0.461225]\n",
      "  Inverse: \n",
      "    0.999999 -0.00149833 0.0006001 \n",
      "    0.00149813 0.999999 0.000343795 \n",
      "    -0.000600614 -0.000342896 1 \n",
      "  Singular: 0\n",
      "\n",
      "12% : CTAT-001-Perf_DAWN_PERFUSION_20180301063224_12.nii\n",
      "AffineTransform (000001FABED63A00)\n",
      "  RTTI typeinfo:   class itk::AffineTransform<double,3>\n",
      "  Reference Count: 2\n",
      "  Modified Time: 5841033\n",
      "  Debug: Off\n",
      "  Object Name: \n",
      "  Observers: \n",
      "    none\n",
      "  Matrix: \n",
      "    0.999998 0.0018912 -4.52519e-05 \n",
      "    -0.0018912 0.999998 4.81126e-06 \n",
      "    4.52609e-05 -4.72567e-06 1 \n",
      "  Offset: [0.220913, -0.0527606, -0.356794]\n",
      "  Center: [0.21582, -164.716, 3.50005]\n",
      "  Translation: [-0.0907559, -0.0528574, -0.356006]\n",
      "  Inverse: \n",
      "    0.999998 -0.0018912 4.52609e-05 \n",
      "    0.0018912 0.999998 -4.72567e-06 \n",
      "    -4.52519e-05 4.81126e-06 1 \n",
      "  Singular: 0\n",
      "\n",
      "17% : CTAT-001-Perf_DAWN_PERFUSION_20180301063224_13.nii"
     ]
    }
   ],
   "source": [
    "Dimension = 3\n",
    "PixelType = itk.ctype('float')\n",
    "ImageType = itk.Image[PixelType, Dimension]\n",
    "\n",
    "imdatamax = itk.GetArrayFromImage(im0)\n",
    "imdatamin = imdatamax\n",
    "\n",
    "imMoving0Blur = im0Blur\n",
    "\n",
    "for imNum in range(num_images):\n",
    "    imMoving = itk.imread( directory + pic_folder[imNum], itk.F )\n",
    "    \n",
    "    immath.SetInput(imMoving)\n",
    "    immath.Blur(0.5)\n",
    "    imMovingBlur = immath.GetOutput()\n",
    "    \n",
    "    imreg = ttk.RegisterImages[ImageType].New()\n",
    "    imreg.SetFixedImage(imMoving0Blur)\n",
    "    imreg.SetMovingImage(imMovingBlur)\n",
    "    imreg.SetRigidMaxIterations(3000)\n",
    "    imreg.SetRegistration(\"RIGID\")\n",
    "    imreg.SetExpectedOffsetMagnitude(20)\n",
    "    imreg.SetExpectedRotationMagnitude(0.3)\n",
    "    imreg.SetMetric(\"MEAN_SQUARED_ERROR_METRIC\")\n",
    "    imreg.SetFixedImageMaskObject(maskObj)\n",
    "    imreg.SetSampleFromOverlap(True)\n",
    "    imreg.SetReportProgress(True)\n",
    "    imreg.Update()\n",
    "    tfm = imreg.GetCurrentMatrixTransform()\n",
    "    imMoving0Blur = imreg.GetFinalMovingImage(\"LINEAR_INTERPOLATION\", -1024)\n",
    "    imMoving0 = imreg.ResampleImage(\"LINEAR_INTERPOLATION\", imMoving, tfm, -1024)\n",
    "    \n",
    "    itk.imwrite( imMoving0, directory2 + pic_folder[imNum], compression=True )\n",
    "    \n",
    "\n",
    "    print(tfm)\n",
    "    \n",
    "    imdataTmp = itk.GetArrayFromImage(imMoving0)\n",
    "    imdatamax = np.maximum(imdatamax,imdataTmp)\n",
    "    imdatamin = np.minimum(imdatamin,imdataTmp)\n",
    "    \n",
    "    #out = itk.GetImageFromArray(imdatamax)\n",
    "    #out.CopyInformation(im0)\n",
    "    #itk.imwrite(out, (directory3 + 'max' + str(imNum) + '.nrrd'))\n",
    "    \n",
    "    percent = (imNum + 1) / num_images * 100\n",
    "    print(str(round(percent)) + '% : ' + pic_folder[imNum])\n",
    "    \n",
    "print('Done')    "
   ]
  },
  {
   "cell_type": "code",
   "execution_count": 5,
   "metadata": {},
   "outputs": [
    {
     "name": "stdout",
     "output_type": "stream",
     "text": [
      "Done\n"
     ]
    }
   ],
   "source": [
    "out = itk.GetImageFromArray(imdatamax)\n",
    "out.CopyInformation(im0)\n",
    "itk.imwrite(out, (directory3 + 'max.nrrd'), compression=True)\n",
    "\n",
    "out = itk.GetImageFromArray(imdatamin)\n",
    "out.CopyInformation(im0)\n",
    "itk.imwrite(out, (directory3 + 'min.nrrd'), compression=True)\n",
    "\n",
    "out = itk.GetImageFromArray(imdatamax - imdatamin)\n",
    "out.CopyInformation(im0)\n",
    "itk.imwrite(out, (directory3 + 'diff.nrrd'), compression=True)\n",
    "\n",
    "print('Done')"
   ]
  },
  {
   "cell_type": "code",
   "execution_count": 6,
   "metadata": {},
   "outputs": [
    {
     "data": {
      "application/vnd.jupyter.widget-view+json": {
       "model_id": "31951a71271b42a58914038fe85a26a8",
       "version_major": 2,
       "version_minor": 0
      },
      "text/plain": [
       "Viewer(geometries=[], gradient_opacity=0.22, point_sets=[], rendered_image=<itk.itkImagePython.itkImageF3; pro…"
      ]
     },
     "metadata": {},
     "output_type": "display_data"
    }
   ],
   "source": [
    "view(out)"
   ]
  },
  {
   "cell_type": "code",
   "execution_count": null,
   "metadata": {},
   "outputs": [],
   "source": []
  }
 ],
 "metadata": {
  "kernelspec": {
   "display_name": "Python 3",
   "language": "python",
   "name": "python3"
  },
  "language_info": {
   "codemirror_mode": {
    "name": "ipython",
    "version": 3
   },
   "file_extension": ".py",
   "mimetype": "text/x-python",
   "name": "python",
   "nbconvert_exporter": "python",
   "pygments_lexer": "ipython3",
   "version": "3.8.3"
  }
 },
 "nbformat": 4,
 "nbformat_minor": 2
}
