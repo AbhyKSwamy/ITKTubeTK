{
 "cells": [
  {
   "cell_type": "markdown",
   "metadata": {},
   "source": [
    "This notebook is intended to demonstrate how select registration, segmentation, and image mathematical methods of ITKTubeTK can be combined to perform multi-channel brain extraction (aka. skull stripping for patient data containing multiple MRI sequences).\n",
    "\n",
    "There are many other (probably more effective) brain extraction methods available as open-source software such as BET and BET2 in the FSL package (albeit such methods are only for single channel data).   If you need to perform brain extraction for a large collection of scans that do not contain major pathologies, please use one of those packages.   This notebook is meant to show off the capabilities of specific ITKTubeTK methods, not to demonstration how to \"solve\" brain extraction."
   ]
  },
  {
   "cell_type": "code",
   "execution_count": 1,
   "metadata": {},
   "outputs": [],
   "source": [
    "import itk\n",
    "from itk import TubeTK as ttk\n",
    "\n",
    "from itkwidgets import view\n",
    "\n",
    "import numpy as np"
   ]
  },
  {
   "cell_type": "code",
   "execution_count": 2,
   "metadata": {},
   "outputs": [],
   "source": [
    "ImageType = itk.Image[itk.F, 3]\n",
    "\n",
    "InputBaseName = \"G:/My Drive/Projects/Proj_UNC_StrokeCollaterals/Experiments/UNC/CTP/CTAT-003-MinMax/max3\"\n",
    "\n",
    "filename = InputBaseName + \".nrrd\"\n",
    "im1iso = itk.imread(filename, itk.F)\n"
   ]
  },
  {
   "cell_type": "code",
   "execution_count": 3,
   "metadata": {},
   "outputs": [],
   "source": [
    "N = 8\n",
    "readerList = [\"003\", \"010\", \"026\", \"034\", \"045\", \"056\", \"063\", \"071\"]\n",
    "\n",
    "imBase = []\n",
    "imBaseB = []\n",
    "for i in range(0,N):\n",
    "    name = \"../Data/Normal\"+readerList[i]+\"-FLASH.mha\"\n",
    "    nameB = \"../Data/Normal\"+readerList[i]+\"-FLASH-Brain.mha\"\n",
    "    imBaseTmp = itk.imread(name, itk.F)\n",
    "    imBaseBTmp = itk.imread(nameB, itk.F)\n",
    "    imBase.append(imBaseTmp)\n",
    "    imBaseB.append(imBaseBTmp)"
   ]
  },
  {
   "cell_type": "code",
   "execution_count": 4,
   "metadata": {
    "scrolled": true
   },
   "outputs": [
    {
     "data": {
      "application/vnd.jupyter.widget-view+json": {
       "model_id": "bf379b705e4e4596bb7a1c03d9b36212",
       "version_major": 2,
       "version_minor": 0
      },
      "text/plain": [
       "Viewer(geometries=[], gradient_opacity=0.22, point_sets=[], rendered_image=<itk.itkImagePython.itkImageF3; pro…"
      ]
     },
     "metadata": {},
     "output_type": "display_data"
    }
   ],
   "source": [
    "view(im1iso)"
   ]
  },
  {
   "cell_type": "code",
   "execution_count": 5,
   "metadata": {},
   "outputs": [
    {
     "data": {
      "application/vnd.jupyter.widget-view+json": {
       "model_id": "8f6ffb6beb5e42b0bfd3917af325e602",
       "version_major": 2,
       "version_minor": 0
      },
      "text/plain": [
       "Viewer(geometries=[], gradient_opacity=0.22, point_sets=[], rendered_image=<itk.itkImagePython.itkImageF3; pro…"
      ]
     },
     "metadata": {},
     "output_type": "display_data"
    }
   ],
   "source": [
    "view(imBase[0])"
   ]
  },
  {
   "cell_type": "code",
   "execution_count": 6,
   "metadata": {
    "scrolled": true
   },
   "outputs": [
    {
     "data": {
      "application/vnd.jupyter.widget-view+json": {
       "model_id": "dde986ebbbb54ca6bc7de93a3d3312f9",
       "version_major": 2,
       "version_minor": 0
      },
      "text/plain": [
       "Viewer(geometries=[], gradient_opacity=0.22, point_sets=[], rendered_image=<itk.itkImagePython.itkImageF3; pro…"
      ]
     },
     "metadata": {},
     "output_type": "display_data"
    }
   ],
   "source": [
    "imMath = ttk.ImageMath.New(Input=im1iso)\n",
    "#imMath.Threshold(-4000,-500,1,0)\n",
    "#headMask = imMath.GetOutput()\n",
    "imMath.SetInput(im1iso)\n",
    "#imMath.IntensityWindow(0,1000,1000,0)\n",
    "#imMath.ReplaceValuesOutsideMaskRange(headMask,-0.5,0.5,-500)\n",
    "imMath.Blur(1)\n",
    "imMath.NormalizeMeanStdDev()\n",
    "imMath.IntensityWindow(-5,5,-500,500)\n",
    "im1isoBlur = imMath.GetOutput()\n",
    "view(im1isoBlur)"
   ]
  },
  {
   "cell_type": "code",
   "execution_count": 7,
   "metadata": {},
   "outputs": [
    {
     "name": "stdout",
     "output_type": "stream",
     "text": [
      "AffineTransform (000001AE454F7050)\n",
      "  RTTI typeinfo:   class itk::AffineTransform<double,3>\n",
      "  Reference Count: 3\n",
      "  Modified Time: 1621134\n",
      "  Debug: Off\n",
      "  Object Name: \n",
      "  Observers: \n",
      "    none\n",
      "  Matrix: \n",
      "    1.05172 -0.00133272 0.00465268 \n",
      "    0.00328371 0.981726 -0.00465851 \n",
      "    -0.00528362 0.000584959 1.03205 \n",
      "  Offset: [-98.559, -316.565, 212.92]\n",
      "  Center: [0.188904, -194.689, 311.115]\n",
      "  Translation: [-96.8422, -314.456, 222.777]\n",
      "  Inverse: \n",
      "    0.950799 0.00129329 -0.00428054 \n",
      "    -0.00315715 1.01861 0.00461206 \n",
      "    0.00486944 -0.000570719 0.96892 \n",
      "  Singular: 0\n",
      "\n",
      "AffineTransform (000001AE244B0DC0)\n",
      "  RTTI typeinfo:   class itk::AffineTransform<double,3>\n",
      "  Reference Count: 3\n",
      "  Modified Time: 3208560\n",
      "  Debug: Off\n",
      "  Object Name: \n",
      "  Observers: \n",
      "    none\n",
      "  Matrix: \n",
      "    0.999549 0.011145 -0.0359407 \n",
      "    -0.0103267 0.999597 0.022939 \n",
      "    0.0362032 -0.0225629 0.998893 \n",
      "  Offset: [-93.2943, -320.434, 218.93]\n",
      "  Center: [0.188904, -194.689, 311.115]\n",
      "  Translation: [-106.646, -313.22, 222.985]\n",
      "  Inverse: \n",
      "    0.999034 -0.010322 0.0361828 \n",
      "    0.0111461 0.99977 -0.0225581 \n",
      "    -0.0359566 0.0229568 0.999287 \n",
      "  Singular: 0\n",
      "\n",
      "AffineTransform (000001AE412542F0)\n",
      "  RTTI typeinfo:   class itk::AffineTransform<double,3>\n",
      "  Reference Count: 3\n",
      "  Modified Time: 4764774\n",
      "  Debug: Off\n",
      "  Object Name: \n",
      "  Observers: \n",
      "    none\n",
      "  Matrix: \n",
      "    1.00066 0.0118595 -0.000445105 \n",
      "    -0.0118826 0.998943 -0.0223398 \n",
      "    0.00017919 0.0223095 0.999536 \n",
      "  Offset: [-94.7013, -314.68, 216.858]\n",
      "  Center: [0.188904, -194.689, 311.115]\n",
      "  Translation: [-97.1485, -321.427, 212.37]\n",
      "  Inverse: \n",
      "    0.999197 -0.0118666 0.000179735 \n",
      "    0.0118757 1.00042 0.0223648 \n",
      "    -0.000444194 -0.022327 0.999965 \n",
      "  Singular: 0\n",
      "\n",
      "AffineTransform (000001AE7ECDC450)\n",
      "  RTTI typeinfo:   class itk::AffineTransform<double,3>\n",
      "  Reference Count: 3\n",
      "  Modified Time: 6453431\n",
      "  Debug: Off\n",
      "  Object Name: \n",
      "  Observers: \n",
      "    none\n",
      "  Matrix: \n",
      "    0.998095 0.000600867 0.000984475 \n",
      "    -0.000608959 0.989501 -0.0174408 \n",
      "    -0.000931369 0.0174524 0.990148 \n",
      "  Offset: [-92.0334, -316.574, 226.091]\n",
      "  Center: [0.188904, -194.689, 311.115]\n",
      "  Translation: [-91.8445, -319.956, 219.628]\n",
      "  Inverse: \n",
      "    1.00191 -0.000590647 -0.00100657 \n",
      "    0.000633009 1.0103 0.0177951 \n",
      "    0.000931273 -0.0178081 1.00964 \n",
      "  Singular: 0\n",
      "\n",
      "AffineTransform (000001AE24623840)\n",
      "  RTTI typeinfo:   class itk::AffineTransform<double,3>\n",
      "  Reference Count: 3\n",
      "  Modified Time: 8107932\n",
      "  Debug: Off\n",
      "  Object Name: \n",
      "  Observers: \n",
      "    none\n",
      "  Matrix: \n",
      "    1.05543 -0.0701278 -0.0394231 \n",
      "    0.08073 0.964719 -0.0556163 \n",
      "    0.0405759 0.0392429 1.03457 \n",
      "  Offset: [-84.642, -315.362, 217.602]\n",
      "  Center: [0.188904, -194.689, 311.115]\n",
      "  Translation: [-83.2436, -325.781, 220.724]\n",
      "  Inverse: \n",
      "    0.940856 0.0667887 0.0394426 \n",
      "    -0.0806841 1.02858 0.05222 \n",
      "    -0.03384 -0.0416353 0.963058 \n",
      "  Singular: 0\n",
      "\n",
      "AffineTransform (000001AE45729380)\n",
      "  RTTI typeinfo:   class itk::AffineTransform<double,3>\n",
      "  Reference Count: 3\n",
      "  Modified Time: 9645556\n",
      "  Debug: Off\n",
      "  Object Name: \n",
      "  Observers: \n",
      "    none\n",
      "  Matrix: \n",
      "    0.999792 0.0106836 0.013096 \n",
      "    -0.010694 1.00022 0.00212846 \n",
      "    -0.0130852 -0.00229732 0.999287 \n",
      "  Offset: [-97.2016, -320.585, 223.359]\n",
      "  Center: [0.188904, -194.689, 311.115]\n",
      "  Translation: [-95.2073, -319.969, 223.582]\n",
      "  Inverse: \n",
      "    0.999922 -0.0107105 -0.0130816 \n",
      "    0.0106628 0.999657 -0.00226899 \n",
      "    0.0131181 0.00215792 1.00054 \n",
      "  Singular: 0\n",
      "\n",
      "AffineTransform (000001AE24623840)\n",
      "  RTTI typeinfo:   class itk::AffineTransform<double,3>\n",
      "  Reference Count: 3\n",
      "  Modified Time: 11283705\n",
      "  Debug: Off\n",
      "  Object Name: \n",
      "  Observers: \n",
      "    none\n",
      "  Matrix: \n",
      "    0.943438 -0.0311282 -0.0242066 \n",
      "    0.0320795 0.984971 -0.00174242 \n",
      "    0.0213498 -0.00400445 1.01289 \n",
      "  Offset: [-82.4412, -315.844, 225.216]\n",
      "  Center: [0.188904, -194.689, 311.115]\n",
      "  Translation: [-83.9226, -313.454, 230.011]\n",
      "  Inverse: \n",
      "    1.05824 0.0335467 0.0253479 \n",
      "    -0.0345055 1.01417 0.000919992 \n",
      "    -0.022442 0.00330241 0.986741 \n",
      "  Singular: 0\n",
      "\n",
      "AffineTransform (000001AE41BE2BE0)\n",
      "  RTTI typeinfo:   class itk::AffineTransform<double,3>\n",
      "  Reference Count: 3\n",
      "  Modified Time: 13042277\n",
      "  Debug: Off\n",
      "  Object Name: \n",
      "  Observers: \n",
      "    none\n",
      "  Matrix: \n",
      "    1.02885 -0.0256897 -0.0475605 \n",
      "    0.0357013 0.984204 0.0080659 \n",
      "    0.0459029 -0.0228898 1.01571 \n",
      "  Offset: [-85.3841, -320.969, 218.497]\n",
      "  Center: [0.188904, -194.689, 311.115]\n",
      "  Translation: [-95.1739, -315.378, 227.851]\n",
      "  Inverse: \n",
      "    0.969034 0.0263442 0.0451656 \n",
      "    -0.0347857 1.01492 -0.00968841 \n",
      "    -0.0445774 0.0216813 0.982272 \n",
      "  Singular: 0\n",
      "\n"
     ]
    }
   ],
   "source": [
    "RegisterImagesType = ttk.RegisterImages[ImageType]\n",
    "regB = []\n",
    "regBB = []\n",
    "for i in range(0,N):\n",
    "    imMath.SetInput(imBase[i])\n",
    "    imMath.Blur(1)\n",
    "    imMath.NormalizeMeanStdDev()\n",
    "    imMath.IntensityWindow(-5,5,-500,500)\n",
    "    imBaseBlur = imMath.GetOutput()\n",
    "    \n",
    "    #regBTo1 = RegisterImagesType.New(FixedImage=im1isoBlur, MovingImage=imBaseBlur)\n",
    "    regBTo1 = RegisterImagesType.New(FixedImage=imBaseBlur, MovingImage=im1isoBlur)\n",
    "    regBTo1.SetReportProgress(True)\n",
    "    \n",
    "    regBTo1.SetRigidMaxIterations(3000)\n",
    "    regBTo1.SetAffineMaxIterations(3000)\n",
    "    \n",
    "    regBTo1.SetExpectedRotationMagnitude(0.2)\n",
    "    regBTo1.SetExpectedScaleMagnitude(0.25)\n",
    "    regBTo1.SetExpectedSkewMagnitude(0.01)\n",
    "    regBTo1.SetExpectedOffsetMagnitude(40) \n",
    "\n",
    "    regBTo1.SetRigidSamplingRatio(0.1)\n",
    "    regBTo1.SetAffineSamplingRatio(0.1)\n",
    "    \n",
    "    regBTo1.SetSampleFromOverlap(True)\n",
    "    \n",
    "    regBTo1.SetInitialMethodEnum(\"INIT_WITH_IMAGE_CENTERS\")\n",
    "    regBTo1.SetRegistration(\"PIPELINE_AFFINE\")\n",
    "    regBTo1.SetMetric(\"MATTES_MI_METRIC\")\n",
    "    \n",
    "    regBTo1.Update()\n",
    "    \n",
    "    tfm = regBTo1.GetCurrentMatrixTransform()\n",
    "    tfmInv = tfm.GetInverseTransform()\n",
    "    print(tfm)\n",
    "    \n",
    "    resm = ttk.ResampleImage.New(Input=imBase[i])\n",
    "    resm.SetMatchImage(im1iso)\n",
    "    resm.SetTransform(tfmInv)\n",
    "    resm.SetLoadTransform(True)\n",
    "    resm.Update()\n",
    "    img = resm.GetOutput()\n",
    "    regB.append( img )\n",
    "\n",
    "    resm = ttk.ResampleImage.New(Input=imBaseB[i])\n",
    "    resm.SetMatchImage(im1iso)\n",
    "    resm.SetTransform(tfmInv)\n",
    "    resm.SetLoadTransform(True)\n",
    "    resm.Update()\n",
    "    img = resm.GetOutput()\n",
    "    regBB.append( img )"
   ]
  },
  {
   "cell_type": "code",
   "execution_count": 8,
   "metadata": {
    "scrolled": false
   },
   "outputs": [
    {
     "data": {
      "application/vnd.jupyter.widget-view+json": {
       "model_id": "7bd4a00f16da4f22ab4103dd6522ed94",
       "version_major": 2,
       "version_minor": 0
      },
      "text/plain": [
       "Viewer(geometries=[], gradient_opacity=0.22, point_sets=[], rendered_image=<itk.itkImagePython.itkImageF3; pro…"
      ]
     },
     "metadata": {},
     "output_type": "display_data"
    }
   ],
   "source": [
    "imMath.SetInput(regB[1])\n",
    "imMath.AddImages(im1iso,20,1)\n",
    "img = imMath.GetOutput()\n",
    "view( img )"
   ]
  },
  {
   "cell_type": "code",
   "execution_count": 9,
   "metadata": {},
   "outputs": [
    {
     "data": {
      "application/vnd.jupyter.widget-view+json": {
       "model_id": "eb8668d0523a4bfd9c403d898191e7ea",
       "version_major": 2,
       "version_minor": 0
      },
      "text/plain": [
       "Viewer(geometries=[], gradient_opacity=0.22, point_sets=[], rendered_image=<itk.itkImagePython.itkImageF3; pro…"
      ]
     },
     "metadata": {},
     "output_type": "display_data"
    }
   ],
   "source": [
    "regBBT = []\n",
    "for i in range(0,N):\n",
    "    imMath.SetInput(regBB[i])\n",
    "    imMath.Threshold(0,1,0,1)\n",
    "    img = imMath.GetOutput()\n",
    "    if i==0:\n",
    "        imMath.SetInput( img )\n",
    "        imMath.AddImages( img, 1.0/N, 0 )\n",
    "        sumBBT = imMath.GetOutput()\n",
    "    else:\n",
    "        imMath.SetInput( sumBBT )\n",
    "        imMath.AddImages( img, 1, 1.0/N )\n",
    "        sumBBT = imMath.GetOutput()\n",
    "        \n",
    "view(sumBBT)"
   ]
  },
  {
   "cell_type": "code",
   "execution_count": 10,
   "metadata": {},
   "outputs": [],
   "source": [
    "imMath.SetInput(sumBBT)\n",
    "imMath.Threshold(0.85,1.1,1,0)\n",
    "imMath.Dilate(5,1,0)\n",
    "imMath.Erode(25,1,0)\n",
    "brainInside = imMath.GetOutput()\n",
    "\n",
    "imMath.SetInput( sumBBT )\n",
    "imMath.Threshold(0,0,1,0)\n",
    "imMath.Erode(1,1,0)\n",
    "brainOutsideAll = imMath.GetOutput()\n",
    "imMath.Erode(20,1,0)\n",
    "imMath.AddImages(brainOutsideAll, -1, 1)\n",
    "brainOutside = imMath.GetOutput()\n",
    "\n",
    "imMath.AddImages(brainInside,1,2)\n",
    "brainCombinedMask = imMath.GetOutputUChar()\n",
    "brainCombinedMaskF = imMath.GetOutput()"
   ]
  },
  {
   "cell_type": "code",
   "execution_count": 11,
   "metadata": {},
   "outputs": [
    {
     "data": {
      "application/vnd.jupyter.widget-view+json": {
       "model_id": "c415778154624a5a8af8ec28cf745113",
       "version_major": 2,
       "version_minor": 0
      },
      "text/plain": [
       "Viewer(geometries=[], gradient_opacity=0.22, point_sets=[], rendered_image=<itk.itkImagePython.itkImageF3; pro…"
      ]
     },
     "metadata": {},
     "output_type": "display_data"
    }
   ],
   "source": [
    "imMath.SetInput(brainCombinedMaskF)\n",
    "imMath.AddImages(im1iso, 100, 1)\n",
    "brainCombinedMaskView = imMath.GetOutput()\n",
    "view(brainCombinedMaskView)"
   ]
  },
  {
   "cell_type": "code",
   "execution_count": 12,
   "metadata": {},
   "outputs": [],
   "source": [
    "LabelMapType = itk.Image[itk.UC,3]\n",
    "\n",
    "segmenter = ttk.SegmentConnectedComponentsUsingParzenPDFs[ImageType,LabelMapType].New()\n",
    "segmenter.SetFeatureImage( im1iso )\n",
    "segmenter.SetInputLabelMap( brainCombinedMask )\n",
    "segmenter.SetObjectId( 2 )\n",
    "segmenter.AddObjectId( 1 )\n",
    "segmenter.SetVoidId( 0 )\n",
    "segmenter.SetErodeDilateRadius( 10 )\n",
    "segmenter.SetHoleFillIterations( 40 )\n",
    "segmenter.Update()\n",
    "segmenter.ClassifyImages()\n",
    "brainCombinedMaskClassified = segmenter.GetOutputLabelMap()\n"
   ]
  },
  {
   "cell_type": "code",
   "execution_count": 13,
   "metadata": {
    "scrolled": false
   },
   "outputs": [
    {
     "data": {
      "application/vnd.jupyter.widget-view+json": {
       "model_id": "b4b256c7c2dc49079026e1dffc559880",
       "version_major": 2,
       "version_minor": 0
      },
      "text/plain": [
       "Viewer(geometries=[], gradient_opacity=0.22, point_sets=[], rendered_image=<itk.itkImagePython.itkImageUC3; pr…"
      ]
     },
     "metadata": {},
     "output_type": "display_data"
    }
   ],
   "source": [
    "view(brainCombinedMaskClassified)"
   ]
  },
  {
   "cell_type": "code",
   "execution_count": 14,
   "metadata": {},
   "outputs": [],
   "source": [
    "cast = itk.CastImageFilter[LabelMapType, ImageType].New()\n",
    "cast.SetInput(brainCombinedMaskClassified)\n",
    "cast.Update()\n",
    "brainMaskF = cast.GetOutput()\n",
    "\n",
    "brainMath = ttk.ImageMath[ImageType,ImageType].New(Input = brainMaskF)\n",
    "brainMath.Threshold(2,2,1,0)\n",
    "brainMath.Erode(1,1,0)\n",
    "brainMaskD = brainMath.GetOutput()\n",
    "brainMath.SetInput( im1iso )\n",
    "brainMath.ReplaceValuesOutsideMaskRange( brainMaskD, 1, 1, 0)\n",
    "brain = brainMath.GetOutput()"
   ]
  },
  {
   "cell_type": "code",
   "execution_count": 15,
   "metadata": {
    "scrolled": false
   },
   "outputs": [
    {
     "data": {
      "application/vnd.jupyter.widget-view+json": {
       "model_id": "2706febd07bc464e82b9474a2fb1d04c",
       "version_major": 2,
       "version_minor": 0
      },
      "text/plain": [
       "Viewer(geometries=[], gradient_opacity=0.22, point_sets=[], rendered_image=<itk.itkImagePython.itkImageF3; pro…"
      ]
     },
     "metadata": {},
     "output_type": "display_data"
    }
   ],
   "source": [
    "view(brain)"
   ]
  },
  {
   "cell_type": "code",
   "execution_count": 16,
   "metadata": {},
   "outputs": [],
   "source": [
    "writer = itk.ImageFileWriter[ImageType].New(Input = brain)\n",
    "filename = InputBaseName + \"-Brain.nrrd\"\n",
    "writer.SetFileName(filename)\n",
    "writer.SetUseCompression(True)\n",
    "writer.Update()"
   ]
  },
  {
   "cell_type": "code",
   "execution_count": null,
   "metadata": {},
   "outputs": [],
   "source": [
    "\n",
    "\n"
   ]
  }
 ],
 "metadata": {
  "kernelspec": {
   "display_name": "Python 3",
   "language": "python",
   "name": "python3"
  },
  "language_info": {
   "codemirror_mode": {
    "name": "ipython",
    "version": 3
   },
   "file_extension": ".py",
   "mimetype": "text/x-python",
   "name": "python",
   "nbconvert_exporter": "python",
   "pygments_lexer": "ipython3",
   "version": "3.8.3"
  }
 },
 "nbformat": 4,
 "nbformat_minor": 2
}
