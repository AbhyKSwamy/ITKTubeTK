{
 "cells": [
  {
   "cell_type": "markdown",
   "metadata": {},
   "source": [
    "This notebook is intended to demonstrate how select registration, segmentation, and image mathematical methods of ITKTubeTK can be combined to perform multi-channel brain extraction (aka. skull stripping for patient data containing multiple MRI sequences).\n",
    "\n",
    "There are many other (probably more effective) brain extraction methods available as open-source software such as BET and BET2 in the FSL package (albeit such methods are only for single channel data).   If you need to perform brain extraction for a large collection of scans that do not contain major pathologies, please use one of those packages.   This notebook is meant to show off the capabilities of specific ITKTubeTK methods, not to demonstration how to \"solve\" brain extraction."
   ]
  },
  {
   "cell_type": "code",
   "execution_count": 1,
   "metadata": {},
   "outputs": [],
   "source": [
    "import itk\n",
    "from itk import TubeTK as ttk\n",
    "\n",
    "from itkwidgets import view\n",
    "\n",
    "import numpy as np"
   ]
  },
  {
   "cell_type": "code",
   "execution_count": 2,
   "metadata": {},
   "outputs": [],
   "source": [
    "InputBaseDir = \"G:/My Drive/Projects/Proj_UNC_StrokeCollaterals/Experiments/UNC/CTP/CTAT-003\"\n",
    "\n",
    "CTPMaxFilename = InputBaseDir + \"-MinMax/max.nrrd\"\n",
    "CTPMinFilename = InputBaseDir + \"-MinMax/min.nrrd\"\n",
    "CTPBrainFilename = InputBaseDir + \"-MinMax/max-Brain.nrrd\"\n",
    "\n",
    "imMax = itk.imread(CTPMaxFilename, itk.F)\n",
    "imMin = itk.imread(CTPMinFilename, itk.F)\n",
    "imBrain = itk.imread(CTPBrainFilename, itk.F)"
   ]
  },
  {
   "cell_type": "code",
   "execution_count": 3,
   "metadata": {},
   "outputs": [
    {
     "data": {
      "application/vnd.jupyter.widget-view+json": {
       "model_id": "a6a9c757f8364acc8125df218c24c4f8",
       "version_major": 2,
       "version_minor": 0
      },
      "text/plain": [
       "Viewer(geometries=[], gradient_opacity=0.22, point_sets=[], rendered_image=<itk.itkImagePython.itkImageF3; pro…"
      ]
     },
     "metadata": {},
     "output_type": "display_data"
    }
   ],
   "source": [
    "view(imBrain)"
   ]
  },
  {
   "cell_type": "code",
   "execution_count": 4,
   "metadata": {},
   "outputs": [],
   "source": [
    "ImageType = itk.Image[itk.F, 3]\n",
    "\n",
    "imMath = ttk.ImageMath.New(Input=imBrain)\n",
    "imMath.Threshold( 0.00001, 2000, 1, 0)\n",
    "imMath.Erode(10,1,0)\n",
    "imBrainMaskErode = imMath.GetOutput()\n",
    "\n",
    "imMath.SetInput(imMax)\n",
    "imMath.AddImages(imMin,1,-1)\n",
    "imDiff = imMath.GetOutput()\n",
    "imMath.ReplaceValuesOutsideMaskRange(imBrain, 0.0001, 2000, 0)\n",
    "imDiffBrain = imMath.GetOutput()\n",
    "imMath.ReplaceValuesOutsideMaskRange(imBrainMaskErode, 0.5, 1.5, 0)\n",
    "imDiffBrainErode = imMath.GetOutput()\n"
   ]
  },
  {
   "cell_type": "code",
   "execution_count": 5,
   "metadata": {},
   "outputs": [
    {
     "name": "stdout",
     "output_type": "stream",
     "text": [
      "1 588.5109\n"
     ]
    }
   ],
   "source": [
    "tmpA = itk.GetArrayViewFromImage(imDiffBrain)\n",
    "tmpAE = itk.GetArrayViewFromImage(imDiffBrainErode)\n",
    "zMax = tmpA.shape[0]\n",
    "clip = 0\n",
    "while((np.amax(tmpA[clip:clip+1,:,:])>1000) | (np.amax(tmpA[clip:clip+1,:,:])==0)):\n",
    "    clip += 1\n",
    "if(clip>0):\n",
    "    tmpA[0:clip,:,:]=0\n",
    "    tmpAE[0:clip,:,:]=0\n",
    "clip = 1\n",
    "while((np.amax(tmpA[zMax-clip:zMax-clip+1,:,:])>1000) | (np.amax(tmpA[zMax-clip:zMax-clip+1,:,:])==0)):\n",
    "    clip += 1\n",
    "print(clip, np.amax(tmpA[zMax-clip:zMax-clip+1,:,:]))\n",
    "clip = clip - 1\n",
    "if(clip>0):\n",
    "    tmpA[zMax-clip:zMax,:,:]=0  #Happens to imDiffBrain since this array is a view of an itk image\n",
    "    tmpAE[zMax-clip:zMax,:,:]=0  #Happens to imDiffBrain since this array is a view of an itk image"
   ]
  },
  {
   "cell_type": "code",
   "execution_count": 6,
   "metadata": {},
   "outputs": [
    {
     "data": {
      "application/vnd.jupyter.widget-view+json": {
       "model_id": "69ab95da2abf4f7cb8abd3d4973e4425",
       "version_major": 2,
       "version_minor": 0
      },
      "text/plain": [
       "Viewer(geometries=[], gradient_opacity=0.22, point_sets=[], rendered_image=<itk.itkImagePython.itkImageF3; pro…"
      ]
     },
     "metadata": {},
     "output_type": "display_data"
    }
   ],
   "source": [
    "view(imDiffBrain)"
   ]
  },
  {
   "cell_type": "code",
   "execution_count": 7,
   "metadata": {
    "scrolled": true
   },
   "outputs": [
    {
     "name": "stdout",
     "output_type": "stream",
     "text": [
      "[[  -7.00160217 -163.7144165   304.47746277]\n",
      " [  -4.23602295 -145.46159363  297.28695679]\n",
      " [ -18.61703491 -205.7512207   301.71188354]\n",
      " [ -19.7232666  -186.94528198  292.30891418]\n",
      " [  -5.34225464 -138.82420349  285.67152405]\n",
      " [ -40.18855286 -212.94172668  296.73384094]\n",
      " [ -51.8039856  -207.96368408  297.28695679]\n",
      " [ -25.80754089 -144.90847778  278.48101807]\n",
      " [ -48.48529053 -193.58267212  305.03057861]\n",
      " [  12.35745239 -176.98919678  266.86558533]\n",
      " [ -44.61347961 -181.96723938  309.45550537]\n",
      " [ -37.42297363 -164.26753235  296.1807251 ]\n",
      " [ -56.22891235 -181.96723938  309.45550537]\n",
      " [  -2.57667542 -142.6960144   266.86558533]\n",
      " [ -58.99449158 -155.97079468  292.30891418]]\n"
     ]
    }
   ],
   "source": [
    "imMath = ttk.ImageMath[ImageType,ImageType].New()\n",
    "imMath.SetInput(imDiffBrainErode)\n",
    "imMath.Blur(1.5)\n",
    "imBlur = imMath.GetOutput()\n",
    "imBlurArray = itk.GetArrayViewFromImage(imBlur)\n",
    "\n",
    "numSeeds = 15\n",
    "seedCoverage = 20\n",
    "seedCoord = np.zeros([numSeeds,3])\n",
    "for i in range(numSeeds):\n",
    "    seedCoord[i] = np.unravel_index(np.argmax(imBlurArray, axis=None), imBlurArray.shape)\n",
    "    indx = [int(seedCoord[i][0]),int(seedCoord[i][1]),int(seedCoord[i][2])]\n",
    "    minX = max(indx[0]-seedCoverage,0)\n",
    "    maxX = max(indx[0]+seedCoverage,imBlurArray.shape[0])\n",
    "    minY = max(indx[1]-seedCoverage,0)\n",
    "    maxY = max(indx[1]+seedCoverage,imBlurArray.shape[1])\n",
    "    minZ = max(indx[2]-seedCoverage,0)\n",
    "    maxZ = max(indx[2]+seedCoverage,imBlurArray.shape[2])\n",
    "    imBlurArray[minX:maxX,minY:maxY,minZ:maxZ]=0\n",
    "    indx.reverse()\n",
    "    seedCoord[:][i] = imDiffBrain.TransformIndexToPhysicalPoint(indx)\n",
    "print(seedCoord)"
   ]
  },
  {
   "cell_type": "code",
   "execution_count": 8,
   "metadata": {},
   "outputs": [
    {
     "name": "stdout",
     "output_type": "stream",
     "text": [
      "**** Processing seed 0 : [  -7.00160217 -163.7144165   304.47746277]\n",
      "**** Processing seed 1 : [  -4.23602295 -145.46159363  297.28695679]\n",
      "**** Processing seed 2 : [ -18.61703491 -205.7512207   301.71188354]\n",
      "**** Processing seed 3 : [ -19.7232666  -186.94528198  292.30891418]\n",
      "**** Processing seed 4 : [  -5.34225464 -138.82420349  285.67152405]\n",
      "**** Processing seed 5 : [ -40.18855286 -212.94172668  296.73384094]\n",
      "**** Processing seed 6 : [ -51.8039856  -207.96368408  297.28695679]\n",
      "**** Processing seed 7 : [ -25.80754089 -144.90847778  278.48101807]\n",
      "**** Processing seed 8 : [ -48.48529053 -193.58267212  305.03057861]\n",
      "**** Processing seed 9 : [  12.35745239 -176.98919678  266.86558533]\n",
      "**** Processing seed 10 : [ -44.61347961 -181.96723938  309.45550537]\n",
      "**** Processing seed 11 : [ -37.42297363 -164.26753235  296.1807251 ]\n",
      "**** Processing seed 12 : [ -56.22891235 -181.96723938  309.45550537]\n",
      "**** Processing seed 13 : [  -2.57667542 -142.6960144   266.86558533]\n",
      "**** Processing seed 14 : [ -58.99449158 -155.97079468  292.30891418]\n"
     ]
    }
   ],
   "source": [
    "# Manually extract a few vessels to form an image-specific training set\n",
    "vSeg = ttk.SegmentTubes.New(Input=imDiffBrain)\n",
    "vSeg.SetVerbose(True)\n",
    "vSeg.SetMinRoundness(0.4)\n",
    "vSeg.SetMinCurvature(0.002)\n",
    "vSeg.SetRadiusInObjectSpace( 1 )\n",
    "for i in range(numSeeds):\n",
    "    print(\"**** Processing seed \" + str(i) + \" : \" + str(seedCoord[i]))\n",
    "    vSeg.ExtractTubeInObjectSpace( seedCoord[i], i )\n",
    "    \n",
    "tubeMaskImage = vSeg.GetTubeMaskImage()"
   ]
  },
  {
   "cell_type": "code",
   "execution_count": 9,
   "metadata": {},
   "outputs": [
    {
     "data": {
      "application/vnd.jupyter.widget-view+json": {
       "model_id": "b439543c270d4e9e82f2b173b7e85693",
       "version_major": 2,
       "version_minor": 0
      },
      "text/plain": [
       "Viewer(geometries=[], gradient_opacity=0.22, point_sets=[], rendered_image=<itk.itkImagePython.itkImageF3; pro…"
      ]
     },
     "metadata": {},
     "output_type": "display_data"
    }
   ],
   "source": [
    "imMath.SetInput(tubeMaskImage)\n",
    "imMath.AddImages(imDiffBrain, 200, 1)\n",
    "blendIm = imMath.GetOutput()\n",
    "view(blendIm)"
   ]
  },
  {
   "cell_type": "code",
   "execution_count": 10,
   "metadata": {},
   "outputs": [],
   "source": [
    "LabelMapType = itk.Image[itk.UC,3]\n",
    "\n",
    "trMask = ttk.ComputeTrainingMask[ImageType,LabelMapType].New()\n",
    "trMask.SetInput( tubeMaskImage )\n",
    "trMask.SetGap( 4 )\n",
    "trMask.SetObjectWidth( 1 )\n",
    "trMask.SetNotObjectWidth( 1 )\n",
    "trMask.Update()\n",
    "fgMask = trMask.GetOutput()"
   ]
  },
  {
   "cell_type": "code",
   "execution_count": 11,
   "metadata": {},
   "outputs": [
    {
     "data": {
      "application/vnd.jupyter.widget-view+json": {
       "model_id": "de268170f1d941e2b2027131cb74f292",
       "version_major": 2,
       "version_minor": 0
      },
      "text/plain": [
       "Viewer(geometries=[], gradient_opacity=0.22, point_sets=[], rendered_image=<itk.itkImagePython.itkImageUC3; pr…"
      ]
     },
     "metadata": {},
     "output_type": "display_data"
    }
   ],
   "source": [
    "view(fgMask)"
   ]
  },
  {
   "cell_type": "code",
   "execution_count": 12,
   "metadata": {},
   "outputs": [],
   "source": [
    "enhancer = ttk.EnhanceTubesUsingDiscriminantAnalysis[ImageType,LabelMapType].New()\n",
    "enhancer.AddInput( imDiff )\n",
    "enhancer.SetLabelMap( fgMask )\n",
    "enhancer.SetRidgeId( 255 )\n",
    "enhancer.SetBackgroundId( 128 )\n",
    "enhancer.SetUnknownId( 0 )\n",
    "enhancer.SetTrainClassifier(True)\n",
    "enhancer.SetUseIntensityOnly(True)\n",
    "enhancer.SetScales([0.43,1.29,3.01])\n",
    "enhancer.Update()\n",
    "enhancer.ClassifyImages()"
   ]
  },
  {
   "cell_type": "code",
   "execution_count": 13,
   "metadata": {
    "scrolled": true
   },
   "outputs": [
    {
     "data": {
      "application/vnd.jupyter.widget-view+json": {
       "model_id": "aebaee088cd6456a934a851b88684409",
       "version_major": 2,
       "version_minor": 0
      },
      "text/plain": [
       "Viewer(geometries=[], gradient_opacity=0.22, point_sets=[], rendered_image=<itk.itkImagePython.itkImageF3; pro…"
      ]
     },
     "metadata": {},
     "output_type": "display_data"
    }
   ],
   "source": [
    "im1vess = itk.SubtractImageFilter( Input1=enhancer.GetClassProbabilityImage(0), Input2=enhancer.GetClassProbabilityImage(1))\n",
    "\n",
    "imMath.SetInput(imDiffBrain)\n",
    "imMath.Threshold(0.0001,2000,1,0)\n",
    "imMath.Erode(2,1,0)\n",
    "imBrainE = imMath.GetOutput()\n",
    "\n",
    "imMath.SetInput(im1vess)\n",
    "imMath.ReplaceValuesOutsideMaskRange(imBrainE, 1, 1, -0.001)\n",
    "im1vessBrain = imMath.GetOutput()\n",
    "#view(enhancer.GetClassProbabilityImage(0))\n",
    "view(im1vessBrain)"
   ]
  },
  {
   "cell_type": "code",
   "execution_count": 14,
   "metadata": {},
   "outputs": [],
   "source": [
    "itk.imwrite( im1vess, InputBaseDir + \"-MinMax/diff-VesselEnhanced.nrrd\", compression=True)\n",
    "\n",
    "itk.imwrite( im1vessBrain, InputBaseDir + \"-MinMax/Brain-VesselEnhanced.nrrd\", compression=True)"
   ]
  },
  {
   "cell_type": "code",
   "execution_count": null,
   "metadata": {},
   "outputs": [],
   "source": []
  }
 ],
 "metadata": {
  "kernelspec": {
   "display_name": "Python 3",
   "language": "python",
   "name": "python3"
  },
  "language_info": {
   "codemirror_mode": {
    "name": "ipython",
    "version": 3
   },
   "file_extension": ".py",
   "mimetype": "text/x-python",
   "name": "python",
   "nbconvert_exporter": "python",
   "pygments_lexer": "ipython3",
   "version": "3.8.3"
  }
 },
 "nbformat": 4,
 "nbformat_minor": 2
}
