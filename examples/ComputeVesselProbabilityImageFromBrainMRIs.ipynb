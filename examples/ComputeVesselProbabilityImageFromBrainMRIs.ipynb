{
 "cells": [
  {
   "cell_type": "markdown",
   "metadata": {},
   "source": [
    "This notebook is intended to demonstrate how vessel segmentation methods of ITKTubeTK can be applied to multi-channel MRI (MRA + T1, T2, etc)."
   ]
  },
  {
   "cell_type": "code",
   "execution_count": 1,
   "metadata": {},
   "outputs": [],
   "source": [
    "import itk\n",
    "from itk import TubeTK as ttk\n",
    "\n",
    "from itkwidgets import view\n",
    "\n",
    "import numpy as np"
   ]
  },
  {
   "cell_type": "code",
   "execution_count": 2,
   "metadata": {},
   "outputs": [],
   "source": [
    "ImageType = itk.Image[itk.F, 3]\n",
    "ReaderType = itk.ImageFileReader[ImageType]\n",
    "ResampleType = ttk.ResampleImage[ImageType]\n",
    "\n",
    "reader1 = ReaderType.New(FileName=\"data/mra-Brain.mha\")\n",
    "reader1.Update()\n",
    "im1 = reader1.GetOutput()\n",
    "res = ResampleType.New(Input = im1) # Vessel extraction requires Isotropic voxel spacing\n",
    "res.SetMakeHighResIso(True)\n",
    "res.Update()\n",
    "im1iso = res.GetOutput()\n",
    "\n",
    "reader2 = ReaderType.New(FileName=\"data/mri-t1-Brain.mha\")\n",
    "reader2.Update()\n",
    "im2 = reader2.GetOutput()\n",
    "res = ResampleType.New(Input = im2)\n",
    "res.SetMakeHighResIso(True)\n",
    "res.Update()\n",
    "im2iso = res.GetOutput()\n",
    "\n",
    "reader3 = ReaderType.New(FileName=\"data/mri-t2-Brain.mha\")\n",
    "reader3.Update()\n",
    "im3 = reader3.GetOutput()\n",
    "res = ResampleType.New(Input = im3)\n",
    "res.SetMakeHighResIso(True)\n",
    "res.Update()\n",
    "im3iso = res.GetOutput()\n"
   ]
  },
  {
   "cell_type": "code",
   "execution_count": 3,
   "metadata": {},
   "outputs": [],
   "source": [
    "# Manually extract a few vessels to form an image-specific training set\n",
    "xp=[[-3.9,-54.8,12.3],\n",
    "    [25.1,-20.8,-22.7],\n",
    "    [-27.0,-25.8,-23.9]]\n",
    "\n",
    "vSeg = ttk.SegmentTubes[ImageType].New()\n",
    "vSeg.SetInput(im1iso)\n",
    "#vSeg.SetVerbose(True)\n",
    "vSeg.SetMinRoundness(0.2)\n",
    "vSeg.SetStepX(0.1)\n",
    "vSeg.SetRadiusInObjectSpace( 1.5 )\n",
    "vSeg.ExtractTubeInObjectSpace( xp[0], 1 )\n",
    "vSeg.ExtractTubeInObjectSpace( xp[1], 2 )\n",
    "vSeg.ExtractTubeInObjectSpace( xp[2], 3 )\n",
    "\n",
    "tubeMaskImage = vSeg.GetTubeMaskImage()"
   ]
  },
  {
   "cell_type": "code",
   "execution_count": 4,
   "metadata": {},
   "outputs": [],
   "source": [
    "LabelMapType = itk.Image[itk.UC,3]\n",
    "\n",
    "trMask = ttk.ComputeTrainingMask[ImageType,LabelMapType].New()\n",
    "trMask.SetInput( tubeMaskImage )\n",
    "trMask.SetGap( 3 )\n",
    "trMask.SetNotObjectWidth( 1 )\n",
    "trMask.Update()\n",
    "fgMask = trMask.GetOutput()"
   ]
  },
  {
   "cell_type": "code",
   "execution_count": 5,
   "metadata": {},
   "outputs": [],
   "source": [
    "im1Math = ttk.ImageMath[ImageType,LabelMapType].New(Input=im1iso)\n",
    "im1Math.Threshold(0,0,63,0)\n",
    "bkgMask = im1Math.GetOutput()\n",
    "\n",
    "imCombMath = ttk.ImageMath[LabelMapType,LabelMapType].New(Input=bkgMask)\n",
    "imCombMath.AddImages(fgMask, 1, 1)\n",
    "mask = imCombMath.GetOutput()"
   ]
  },
  {
   "cell_type": "code",
   "execution_count": 6,
   "metadata": {},
   "outputs": [],
   "source": [
    "imWriter = itk.ImageFileWriter[LabelMapType].New(Input=fgMask)\n",
    "imWriter.SetFileName(\"data/im1iso-trainMask.mha\")\n",
    "imWriter.Update()"
   ]
  },
  {
   "cell_type": "code",
   "execution_count": 9,
   "metadata": {},
   "outputs": [],
   "source": [
    "enhancer = ttk.EnhanceTubesUsingDiscriminantAnalysis[ImageType,LabelMapType].New()\n",
    "enhancer.SetInput( im1iso )\n",
    "enhancer.AddInput( im2iso )\n",
    "#enhancer.AddInput( im3iso )\n",
    "enhancer.SetLabelMap( fgMask )\n",
    "enhancer.SetRidgeId( 255 )\n",
    "enhancer.SetBackgroundId( 127 )\n",
    "enhancer.SetUnknownId( 0 )\n",
    "enhancer.SetTrainClassifier(True)\n",
    "enhancer.SetUseIntensityOnly(True)\n",
    "enhancer.SetScales([1,2])\n",
    "enhancer.Update()\n",
    "#enhancer.ClassifyImages()"
   ]
  },
  {
   "cell_type": "code",
   "execution_count": 11,
   "metadata": {},
   "outputs": [],
   "source": [
    "enhancer.ClassifyImages()\n",
    "#imMath = ttk.ImageMath[ImageType,ImageType].New(Input = segmenter.GetClassProbabilityImage(0))\n",
    "#imMath.AddImages( segmenter.GetClassProbabilityImage(1), 1, -1 )\n",
    "#view(imMath.GetOutput())"
   ]
  },
  {
   "cell_type": "code",
   "execution_count": 1,
   "metadata": {},
   "outputs": [
    {
     "ename": "NameError",
     "evalue": "name 'enhancer' is not defined",
     "output_type": "error",
     "traceback": [
      "\u001b[1;31m---------------------------------------------------------------------------\u001b[0m",
      "\u001b[1;31mNameError\u001b[0m                                 Traceback (most recent call last)",
      "\u001b[1;32m<ipython-input-1-72b7df4d7596>\u001b[0m in \u001b[0;36m<module>\u001b[1;34m\u001b[0m\n\u001b[1;32m----> 1\u001b[1;33m \u001b[0mprint\u001b[0m\u001b[1;33m(\u001b[0m\u001b[0menhancer\u001b[0m\u001b[1;33m.\u001b[0m\u001b[0mGetClassLikelihoodRatioImage\u001b[0m\u001b[1;33m(\u001b[0m\u001b[1;36m0\u001b[0m\u001b[1;33m)\u001b[0m\u001b[1;33m)\u001b[0m\u001b[1;33m\u001b[0m\u001b[1;33m\u001b[0m\u001b[0m\n\u001b[0m",
      "\u001b[1;31mNameError\u001b[0m: name 'enhancer' is not defined"
     ]
    }
   ],
   "source": [
    "print(enhancer.GetClassLikelihoodRatioImage(0))"
   ]
  },
  {
   "cell_type": "code",
   "execution_count": null,
   "metadata": {},
   "outputs": [],
   "source": []
  }
 ],
 "metadata": {
  "kernelspec": {
   "display_name": "Python 3",
   "language": "python",
   "name": "python3"
  },
  "language_info": {
   "codemirror_mode": {
    "name": "ipython",
    "version": 3
   },
   "file_extension": ".py",
   "mimetype": "text/x-python",
   "name": "python",
   "nbconvert_exporter": "python",
   "pygments_lexer": "ipython3",
   "version": "3.7.5"
  }
 },
 "nbformat": 4,
 "nbformat_minor": 2
}
