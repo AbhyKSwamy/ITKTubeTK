{
 "cells": [
  {
   "cell_type": "markdown",
   "metadata": {},
   "source": [
    "This notebook is intended to demonstrate how vessel segmentation methods of ITKTubeTK can be applied to multi-channel MRI (MRA + T1, T2, etc)."
   ]
  },
  {
   "cell_type": "code",
   "execution_count": 1,
   "metadata": {},
   "outputs": [],
   "source": [
    "import itk\n",
    "from itk import TubeTK as ttk\n",
    "\n",
    "from itkwidgets import view\n",
    "\n",
    "import numpy as np"
   ]
  },
  {
   "cell_type": "code",
   "execution_count": 2,
   "metadata": {},
   "outputs": [],
   "source": [
    "ImageType = itk.Image[itk.F, 3]\n",
    "ReaderType = itk.ImageFileReader[ImageType]\n",
    "ResampleType = ttk.ResampleImage[ImageType]\n",
    "\n",
    "reader1 = ReaderType.New(FileName=\"data/mra-Brain.mha\")\n",
    "reader1.Update()\n",
    "im1 = reader1.GetOutput()\n",
    "res = ResampleType.New(Input = im1) # Vessel extraction requires Isotropic voxel spacing\n",
    "res.SetMakeHighResIso(True)\n",
    "res.Update()\n",
    "im1iso = res.GetOutput()\n",
    "\n",
    "reader2 = ReaderType.New(FileName=\"data/mri-t1-Brain.mha\")\n",
    "reader2.Update()\n",
    "im2 = reader2.GetOutput()\n",
    "res = ResampleType.New(Input = im2)\n",
    "res.SetMakeHighResIso(True)\n",
    "res.Update()\n",
    "im2iso = res.GetOutput()\n",
    "\n",
    "reader3 = ReaderType.New(FileName=\"data/mri-t2-Brain.mha\")\n",
    "reader3.Update()\n",
    "im3 = reader3.GetOutput()\n",
    "res = ResampleType.New(Input = im3)\n",
    "res.SetMakeHighResIso(True)\n",
    "res.Update()\n",
    "im3iso = res.GetOutput()\n"
   ]
  },
  {
   "cell_type": "code",
   "execution_count": 3,
   "metadata": {},
   "outputs": [],
   "source": [
    "# Manually extract a few vessels to form an image-specific training set\n",
    "xp=[[-3.9,-54.8,12.3],\n",
    "    [25.1,-20.8,-22.7],\n",
    "    [-27.0,-25.8,-23.9]]\n",
    "\n",
    "vSeg = ttk.SegmentTubes[ImageType].New()\n",
    "vSeg.SetInput(im1iso)\n",
    "vSeg.SetVerbose(True)\n",
    "vSeg.SetMinRoundness(0.2)\n",
    "vSeg.SetStepX(0.1)\n",
    "vSeg.SetRadiusInObjectSpace( 1.5 )\n",
    "vSeg.ExtractTubeInObjectSpace( xp[0], 1 )\n",
    "vSeg.ExtractTubeInObjectSpace( xp[1], 2 )\n",
    "vSeg.ExtractTubeInObjectSpace( xp[2], 3 )\n",
    "\n",
    "tubeMaskImage = vSeg.GetTubeMaskImage()"
   ]
  },
  {
   "cell_type": "code",
   "execution_count": 4,
   "metadata": {},
   "outputs": [],
   "source": [
    "LabelMapType = itk.Image[itk.UC,3]\n",
    "\n",
    "trMask = ttk.ComputeTrainingMask[ImageType,LabelMapType].New()\n",
    "trMask.SetInput( tubeMaskImage )\n",
    "trMask.SetGap( 3 )\n",
    "trMask.SetNotVesselWidth( 1 )\n",
    "trMask.Update()\n",
    "fgMask = trMask.GetOutput()"
   ]
  },
  {
   "cell_type": "code",
   "execution_count": 7,
   "metadata": {},
   "outputs": [
    {
     "data": {
      "application/vnd.jupyter.widget-view+json": {
       "model_id": "b77a898402f345c5b12e36ceee3b95bf",
       "version_major": 2,
       "version_minor": 0
      },
      "text/plain": [
       "Viewer(geometries=[], gradient_opacity=0.22, point_sets=[], rendered_image=<itkImagePython.itkImageUC3; proxy …"
      ]
     },
     "metadata": {},
     "output_type": "display_data"
    }
   ],
   "source": [
    "im1Math = ttk.ImageMath[ImageType,LabelMapType].New(Input=im1iso)\n",
    "im1Math.Threshold(0,0,63,0)\n",
    "bkgMask = im1Math.GetOutput()\n",
    "\n",
    "imCombMath = ttk.ImageMath[LabelMapType,LabelMapType].New(Input=bkgMask)\n",
    "imCombMath.AddImages(fgMask, 1, 1)\n",
    "mask = imCombMath.GetOutput()\n",
    "\n",
    "view(mask)"
   ]
  },
  {
   "cell_type": "code",
   "execution_count": 13,
   "metadata": {},
   "outputs": [],
   "source": [
    "segmenter = ttk.SegmentConnectedComponentsUsingParzenPDFs[ImageType,LabelMapType].New()\n",
    "segmenter.SetFeatureImage( im1iso )\n",
    "#segmenter.AddFeatureImage( im2iso )\n",
    "#segmenter.AddFeatureImage( im3iso )\n",
    "segmenter.SetInputLabelMap( mask )\n",
    "segmenter.SetObjectId( 255 )\n",
    "segmenter.AddObjectId( 127 )\n",
    "segmenter.AddObjectId( 63 )\n",
    "segmenter.SetVoidId( 0 )\n",
    "segmenter.SetErodeDilateRadius( 1 )\n",
    "segmenter.SetDilateFirst(True)\n",
    "segmenter.Update()\n",
    "segmenter.ClassifyImages()"
   ]
  },
  {
   "cell_type": "code",
   "execution_count": 14,
   "metadata": {},
   "outputs": [
    {
     "data": {
      "application/vnd.jupyter.widget-view+json": {
       "model_id": "4f9ed998689a4d2089571db2806a7b8d",
       "version_major": 2,
       "version_minor": 0
      },
      "text/plain": [
       "Viewer(geometries=[], gradient_opacity=0.22, point_sets=[], rendered_image=<itkImagePython.itkImageF3; proxy o…"
      ]
     },
     "metadata": {},
     "output_type": "display_data"
    }
   ],
   "source": [
    "view(segmenter.GetClassProbabilityImage(0))\n",
    "#imMath = ttk.ImageMath[ImageType,ImageType].New(Input = segmenter.GetClassProbabilityImage(0))\n",
    "#imMath.AddImages( segmenter.GetClassProbabilityImage(1), 1, -1 )\n",
    "#view(imMath.GetOutput())"
   ]
  }
 ],
 "metadata": {
  "kernelspec": {
   "display_name": "Python 3",
   "language": "python",
   "name": "python3"
  },
  "language_info": {
   "codemirror_mode": {
    "name": "ipython",
    "version": 3
   },
   "file_extension": ".py",
   "mimetype": "text/x-python",
   "name": "python",
   "nbconvert_exporter": "python",
   "pygments_lexer": "ipython3",
   "version": "3.7.5"
  }
 },
 "nbformat": 4,
 "nbformat_minor": 2
}
