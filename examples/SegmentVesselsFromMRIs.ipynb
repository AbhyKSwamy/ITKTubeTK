{
 "cells": [
  {
   "cell_type": "markdown",
   "metadata": {},
   "source": [
    "This notebook is intended to demonstrate how vessel segmentation methods of ITKTubeTK can be applied to multi-channel MRI (MRA + T1, T2, etc)."
   ]
  },
  {
   "cell_type": "code",
   "execution_count": 28,
   "metadata": {},
   "outputs": [],
   "source": [
    "import itk\n",
    "from itk import TubeTK as ttk\n",
    "\n",
    "from itkwidgets import view\n",
    "\n",
    "import numpy as np"
   ]
  },
  {
   "cell_type": "code",
   "execution_count": 29,
   "metadata": {},
   "outputs": [],
   "source": [
    "ImageType = itk.Image[itk.F, 3]\n",
    "\n",
    "ReaderType = itk.ImageFileReader[ImageType]\n",
    "ResampleType = ttk.ResampleImage[itk.F, 3]\n",
    "\n",
    "reader = ReaderType.New(FileName=\"data/mra-Brain.mha\")\n",
    "reader.Update()\n",
    "im1 = reader.GetOutput()\n",
    "res = ResampleType.New(Input = im1)\n",
    "res.SetMakeHighResIso(True)\n",
    "res.Update()\n",
    "im1iso = res.GetOutput()\n",
    "\n",
    "reader = ReaderType.New(FileName=\"data/mri-t1-Brain.mha\")\n",
    "reader.Update()\n",
    "im2 = reader.GetOutput()\n",
    "res = ResampleType.New(Input = im2)\n",
    "res.SetMakeHighResIso(True)\n",
    "res.Update()\n",
    "im2iso = res.GetOutput()\n",
    "\n",
    "reader = ReaderType.New(FileName=\"data/mri-t2-Brain.mha\")\n",
    "reader.Update()\n",
    "im3 = reader.GetOutput()\n",
    "res = ResampleType.New(Input = im3)\n",
    "res.SetMakeHighResIso(True)\n",
    "res.Update()\n",
    "im3iso = res.GetOutput()"
   ]
  },
  {
   "cell_type": "code",
   "execution_count": 30,
   "metadata": {},
   "outputs": [],
   "source": [
    "xp=[-3.9,-54.8,12.3]\n",
    "xi=[266.1,120.7,45.0]\n",
    "\n",
    "vSeg = ttk.SegmentTubes[ImageType].New( InputImage=im1iso )\n",
    "vSeg.SetRadius( 1.5 )\n",
    "vSeg.ExtractTube( xi, 1 )\n",
    "tube = vSeg.GetTubeGroup()"
   ]
  },
  {
   "cell_type": "code",
   "execution_count": null,
   "metadata": {},
   "outputs": [],
   "source": []
  }
 ],
 "metadata": {
  "kernelspec": {
   "display_name": "Python 3",
   "language": "python",
   "name": "python3"
  },
  "language_info": {
   "codemirror_mode": {
    "name": "ipython",
    "version": 3
   },
   "file_extension": ".py",
   "mimetype": "text/x-python",
   "name": "python",
   "nbconvert_exporter": "python",
   "pygments_lexer": "ipython3",
   "version": "3.7.5"
  }
 },
 "nbformat": 4,
 "nbformat_minor": 2
}
